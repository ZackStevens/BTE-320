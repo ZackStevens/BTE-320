{
  "nbformat": 4,
  "nbformat_minor": 0,
  "metadata": {
    "colab": {
      "provenance": [],
      "authorship_tag": "ABX9TyOlFm5yPLPA55zry2k1HmOH",
      "include_colab_link": true
    },
    "kernelspec": {
      "name": "python3",
      "display_name": "Python 3"
    },
    "language_info": {
      "name": "python"
    }
  },
  "cells": [
    {
      "cell_type": "markdown",
      "metadata": {
        "id": "view-in-github",
        "colab_type": "text"
      },
      "source": [
        "<a href=\"https://colab.research.google.com/github/ZackStevens/BTE-320/blob/main/In_Class_Assignment.ipynb\" target=\"_parent\"><img src=\"https://colab.research.google.com/assets/colab-badge.svg\" alt=\"Open In Colab\"/></a>"
      ]
    },
    {
      "cell_type": "code",
      "source": [
        "pi= 3.14\n",
        "height = float(input(\"Please provide height: \"))\n",
        "radius = float(input(\"Please provide radius: \"))\n",
        "\n",
        "surface_area = (2 * pi * (radius ** 2)) + (2 * pi * radius * height)\n",
        "print(\"Surface Area =\", surface_area, \"sq. ft\")"
      ],
      "metadata": {
        "colab": {
          "base_uri": "https://localhost:8080/"
        },
        "id": "EtblAObGaahs",
        "outputId": "eeb0dd3b-24b7-4acf-9c11-e49d40b84ad9"
      },
      "execution_count": null,
      "outputs": [
        {
          "output_type": "stream",
          "name": "stdout",
          "text": [
            "Please provide height: 3\n",
            "Please provide radius: 2\n",
            "Surface Area = 62.8 sq. ft\n"
          ]
        }
      ]
    },
    {
      "cell_type": "code",
      "source": [
        "first_number = float(input(\"Please input first number: \"))\n",
        "operator = input(\"Please input operator (+,-,*,/,//,**,%): \")\n",
        "second_number = float(input(\"Please input second number: \"))\n",
        "\n",
        "if operator == \"+\":\n",
        "    print(first_number + second_number)\n",
        "elif operator == \"-\":\n",
        "    print(first_number - second_number)\n",
        "elif operator == \"/\":\n",
        "    print(first_number / second_number)\n",
        "elif operator == \"//\":\n",
        "    print(first_number // second_number)\n",
        "elif operator == \"*\":\n",
        "    print(first_number * second_number)\n",
        "elif operator == \"**\":\n",
        "    print(first_number ** second_number)\n",
        "elif operator == \"%\":\n",
        "    print(first_number % second_number)\n",
        "else:\n",
        "    print(\"Invalid operator\")"
      ],
      "metadata": {
        "colab": {
          "base_uri": "https://localhost:8080/"
        },
        "id": "q-m64-kedP5C",
        "outputId": "8877b88e-afa9-42e8-d9a2-4b4502c32b10"
      },
      "execution_count": 4,
      "outputs": [
        {
          "output_type": "stream",
          "name": "stdout",
          "text": [
            "Please input first number: 1000\n",
            "Please input operator: *\n",
            "Please input second number: 1000\n",
            "1000000.0\n"
          ]
        }
      ]
    }
  ]
}