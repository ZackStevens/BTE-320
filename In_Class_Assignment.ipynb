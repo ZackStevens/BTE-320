{
  "nbformat": 4,
  "nbformat_minor": 0,
  "metadata": {
    "colab": {
      "provenance": [],
      "authorship_tag": "ABX9TyOQ69MrODrfFOe9LTGreEuz",
      "include_colab_link": true
    },
    "kernelspec": {
      "name": "python3",
      "display_name": "Python 3"
    },
    "language_info": {
      "name": "python"
    }
  },
  "cells": [
    {
      "cell_type": "markdown",
      "metadata": {
        "id": "view-in-github",
        "colab_type": "text"
      },
      "source": [
        "<a href=\"https://colab.research.google.com/github/ZackStevens/BTE-320/blob/main/In_Class_Assignment.ipynb\" target=\"_parent\"><img src=\"https://colab.research.google.com/assets/colab-badge.svg\" alt=\"Open In Colab\"/></a>"
      ]
    },
    {
      "cell_type": "code",
      "source": [
        "pi= 3.14\n",
        "height = float(input(\"Please provide height: \"))\n",
        "radius = float(input(\"Please provide radius: \"))\n",
        "\n",
        "surface_area = (2 * pi * (radius ** 2)) + (2 * pi * radius * height)\n",
        "print(\"Surface Area =\", surface_area, \"sq. ft\")"
      ],
      "metadata": {
        "colab": {
          "base_uri": "https://localhost:8080/"
        },
        "id": "EtblAObGaahs",
        "outputId": "eeb0dd3b-24b7-4acf-9c11-e49d40b84ad9"
      },
      "execution_count": null,
      "outputs": [
        {
          "output_type": "stream",
          "name": "stdout",
          "text": [
            "Please provide height: 3\n",
            "Please provide radius: 2\n",
            "Surface Area = 62.8 sq. ft\n"
          ]
        }
      ]
    }
  ]
}