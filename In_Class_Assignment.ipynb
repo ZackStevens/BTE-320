{
  "nbformat": 4,
  "nbformat_minor": 0,
  "metadata": {
    "colab": {
      "provenance": [],
      "authorship_tag": "ABX9TyPCgPN5xhjVhlle5N05soxv",
      "include_colab_link": true
    },
    "kernelspec": {
      "name": "python3",
      "display_name": "Python 3"
    },
    "language_info": {
      "name": "python"
    }
  },
  "cells": [
    {
      "cell_type": "markdown",
      "metadata": {
        "id": "view-in-github",
        "colab_type": "text"
      },
      "source": [
        "<a href=\"https://colab.research.google.com/github/ZackStevens/BTE-320/blob/main/In_Class_Assignment.ipynb\" target=\"_parent\"><img src=\"https://colab.research.google.com/assets/colab-badge.svg\" alt=\"Open In Colab\"/></a>"
      ]
    },
    {
      "cell_type": "code",
      "source": [
        "pi= 3.14\n",
        "height = float(input(\"Please provide height: \"))\n",
        "radius = float(input(\"Please provide radius: \"))\n",
        "\n",
        "surface_area = (2 * pi * (radius ** 2)) + (2 * pi * radius * height)\n",
        "print(\"Surface Area =\", surface_area, \"sq. ft\")"
      ],
      "metadata": {
        "colab": {
          "base_uri": "https://localhost:8080/"
        },
        "id": "EtblAObGaahs",
        "outputId": "eeb0dd3b-24b7-4acf-9c11-e49d40b84ad9"
      },
      "execution_count": null,
      "outputs": [
        {
          "output_type": "stream",
          "name": "stdout",
          "text": [
            "Please provide height: 3\n",
            "Please provide radius: 2\n",
            "Surface Area = 62.8 sq. ft\n"
          ]
        }
      ]
    },
    {
      "cell_type": "code",
      "source": [
        "first_number = float(input(\"Please input first number: \"))\n",
        "operator = input(\"Please input operator (+,-,*,/,//,**,%): \")\n",
        "second_number = float(input(\"Please input second number: \"))\n",
        "\n",
        "if operator == \"+\":\n",
        "    print(f'{first_number} + {second_number} = {first_number + second_number}')\n",
        "elif operator == \"-\":\n",
        "    print(f'{first_number} - {second_number} = {first_number - second_number}')\n",
        "elif operator == \"/\":\n",
        "    print(f'{first_number} / {second_number} = {first_number / second_number}')\n",
        "elif operator == \"//\":\n",
        "    print(f'{first_number} // {second_number} = {first_number // second_number}')\n",
        "elif operator == \"*\":\n",
        "    print(f'{first_number} * {second_number} = {first_number * second_number}')\n",
        "elif operator == \"**\":\n",
        "    print(f'{first_number} ** {second_number} = {first_number ** second_number}')\n",
        "elif operator == \"%\":\n",
        "    print(f'{first_number} % {second_number} = {first_number % second_number}')\n",
        "else:\n",
        "    print(\"Invalid operator\")"
      ],
      "metadata": {
        "colab": {
          "base_uri": "https://localhost:8080/"
        },
        "id": "q-m64-kedP5C",
        "outputId": "1b439d5c-fe7e-4837-b635-3b5d5ae46532"
      },
      "execution_count": null,
      "outputs": [
        {
          "output_type": "stream",
          "name": "stdout",
          "text": [
            "Please input first number: 5\n",
            "Please input operator (+,-,*,/,//,**,%): *\n",
            "Please input second number: 6\n",
            "5.0 * 6.0 = 30.0\n"
          ]
        }
      ]
    },
    {
      "cell_type": "code",
      "source": [
        "for numberHours in range (1,9):\n",
        "    fee = 5 + 2.5 *numberHours\n",
        "    if fee <= 10:\n",
        "        fee = 10.0\n",
        "    elif fee >= 20:\n",
        "        fee = 20.0\n",
        "    print(fee)"
      ],
      "metadata": {
        "colab": {
          "base_uri": "https://localhost:8080/"
        },
        "id": "qEaLoEeZNMDk",
        "outputId": "db39a3fd-3dab-4357-9367-ffebff9a1599"
      },
      "execution_count": null,
      "outputs": [
        {
          "output_type": "stream",
          "name": "stdout",
          "text": [
            "10.0\n",
            "10.0\n",
            "12.5\n",
            "15.0\n",
            "17.5\n",
            "20.0\n",
            "20.0\n",
            "20.0\n"
          ]
        }
      ]
    },
    {
      "cell_type": "code",
      "source": [
        "print('Ad$\\t', 'Profit')\n",
        "for AdvertisingDollars in range(0, 201, 25):\n",
        "  AdditionalAttendees = 2 * round((AdvertisingDollars)**(1/2))\n",
        "  profit = (20 + AdditionalAttendees) * 10 - 200 - AdvertisingDollars\n",
        "  print(AdvertisingDollars,'\\t' , profit)"
      ],
      "metadata": {
        "colab": {
          "base_uri": "https://localhost:8080/"
        },
        "id": "wYjLX7xwN-aN",
        "outputId": "37fc4287-5059-40ca-985e-5ee896654651"
      },
      "execution_count": null,
      "outputs": [
        {
          "output_type": "stream",
          "name": "stdout",
          "text": [
            "Ad$\t Profit\n",
            "0 \t 0\n",
            "25 \t 75\n",
            "50 \t 90\n",
            "75 \t 105\n",
            "100 \t 100\n",
            "125 \t 95\n",
            "150 \t 90\n",
            "175 \t 85\n",
            "200 \t 80\n"
          ]
        }
      ]
    },
    {
      "cell_type": "code",
      "source": [
        "import random\n",
        "\n",
        "play = input('Do you want to play? (Yes or No) ')\n",
        "\n",
        "while play == 'Yes':\n",
        "  player1 = input('Player 1: Rock, Paper or Scissors? ').capitalize()\n",
        "  player2 = random.choice(['rock', 'paper', 'scissors']).capitalize()\n",
        "\n",
        "  print(f'Player choce {player1}; Computer chose {player2}')\n",
        "\n",
        "  if player1 == ('Rock' and player2 == 'Scissors') or (player1 == 'Paper' and player2 == 'Rock') or (player1 == 'Scissors' and player2 == 'Paper'):\n",
        "    print('Player 1 wins')\n",
        "  elif player1 == player2:\n",
        "    print('It is a tie!')\n",
        "  else:\n",
        "    print('Player 2 wins')\n",
        "  play = input('Do you want to play again? (Yes or No?) ' )\n",
        "\n",
        "print('Good day!')"
      ],
      "metadata": {
        "colab": {
          "base_uri": "https://localhost:8080/"
        },
        "id": "b03i0DQSBs8l",
        "outputId": "48ccdb1f-e12f-4f1b-d566-684ebe52d908"
      },
      "execution_count": null,
      "outputs": [
        {
          "output_type": "stream",
          "name": "stdout",
          "text": [
            "Do you want to play? (Yes or No) Yes\n",
            "Player 1: Rock, Paper or Scissors? Rock\n",
            "Player choce Rock; Computer chose Paper\n",
            "Player 2 wins\n",
            "Do you want to play again? (Yes or No?) No\n",
            "Good day!\n"
          ]
        }
      ]
    },
    {
      "cell_type": "code",
      "source": [
        "lst = []\n",
        "\n",
        "num = float(input('Put in a number '))\n",
        "\n",
        "while num != 0:\n",
        "  lst.append(num)\n",
        "  num = float(input('Put in a number '))\n",
        "  lst.sort(reverse = True)\n",
        "print(lst)"
      ],
      "metadata": {
        "colab": {
          "base_uri": "https://localhost:8080/"
        },
        "id": "a63mEs8F_lVP",
        "outputId": "d14782eb-12d4-46a1-bb77-ccc9afe8d422"
      },
      "execution_count": null,
      "outputs": [
        {
          "output_type": "stream",
          "name": "stdout",
          "text": [
            "Put in a number 1\n",
            "Put in a number 2\n",
            "Put in a number 3\n",
            "Put in a number 4\n",
            "Put in a number 0\n",
            "[4.0, 3.0, 2.0, 1.0]\n"
          ]
        }
      ]
    },
    {
      "cell_type": "code",
      "source": [
        "months = {}\n",
        "\n",
        "names = [\"Jan\", \"Feb\", \"Mar\", \"Apr\", \"May\", \"Jun\", \"Jul\", \"Aug\", \"Sep\", \"Oct\", \"Nov\", \"Dec\"]\n",
        "numbers = [1, 2, 3, 4, 5, 6, 7, 8, 9, 10, 11, 12]\n",
        "\n",
        "for idx in range(len(numbers)):\n",
        "  months[numbers[idx]] = names[idx]\n",
        "\n",
        "print(months)"
      ],
      "metadata": {
        "colab": {
          "base_uri": "https://localhost:8080/"
        },
        "id": "5LVhqyegjSqG",
        "outputId": "f199cb46-6fcc-48ad-8c8b-3d8f26e3f1ce"
      },
      "execution_count": null,
      "outputs": [
        {
          "output_type": "stream",
          "name": "stdout",
          "text": [
            "{1: 'Jan', 2: 'Feb', 3: 'Mar', 4: 'Apr', 5: 'May', 6: 'Jun', 7: 'Jul', 8: 'Aug', 9: 'Sep', 10: 'Oct', 11: 'Nov', 12: 'Dec'}\n"
          ]
        }
      ]
    },
    {
      "cell_type": "code",
      "source": [
        "counts = {}\n",
        "\n",
        "while len(counts) < 5:\n",
        "  key= input('Enter a string: ')\n",
        "\n",
        "  if key not in counts:\n",
        "    counts[key] = 1\n",
        "  else:\n",
        "    counts[key] = counts[key] + 1\n",
        "\n",
        "print(counts)"
      ],
      "metadata": {
        "colab": {
          "base_uri": "https://localhost:8080/"
        },
        "id": "YC-NjKFGnixx",
        "outputId": "d4b838a7-997d-4dd2-f804-e1bc66ba50fb"
      },
      "execution_count": null,
      "outputs": [
        {
          "output_type": "stream",
          "name": "stdout",
          "text": [
            "Enter a string: hi\n",
            "Enter a string: bye\n",
            "Enter a string: yes\n",
            "Enter a string: hi\n",
            "Enter a string: no\n",
            "Enter a string: bye\n",
            "Enter a string: maybe\n",
            "{'hi': 2, 'bye': 2, 'yes': 1, 'no': 1, 'maybe': 1}\n"
          ]
        }
      ]
    },
    {
      "cell_type": "code",
      "source": [
        "def calcFee(hours):\n",
        "  fee = 5 + 2.5 * hours\n",
        "  if fee <= 10:\n",
        "        fee = 10.0\n",
        "  elif fee >= 20:\n",
        "        fee = 20.0\n",
        "  print(f'Fee: ${fee}')\n",
        "\n",
        "print('Program starts...')\n",
        "hours_parked = int(input('Enter hours parked: '))\n",
        "calcFee(hours_parked)"
      ],
      "metadata": {
        "colab": {
          "base_uri": "https://localhost:8080/"
        },
        "id": "hYZStVtXaS7F",
        "outputId": "a5fb9269-0213-49a9-e7df-e4d380de9515"
      },
      "execution_count": 5,
      "outputs": [
        {
          "output_type": "stream",
          "name": "stdout",
          "text": [
            "Program start...\n",
            "Enter hours parked: 1\n",
            "Fee: $10.0\n"
          ]
        }
      ]
    }
  ]
}