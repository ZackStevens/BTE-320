{
  "nbformat": 4,
  "nbformat_minor": 0,
  "metadata": {
    "colab": {
      "provenance": [],
      "authorship_tag": "ABX9TyMvT1lYS3rnn/lOSSocejD4",
      "include_colab_link": true
    },
    "kernelspec": {
      "name": "python3",
      "display_name": "Python 3"
    },
    "language_info": {
      "name": "python"
    }
  },
  "cells": [
    {
      "cell_type": "markdown",
      "metadata": {
        "id": "view-in-github",
        "colab_type": "text"
      },
      "source": [
        "<a href=\"https://colab.research.google.com/github/ZackStevens/BTE-320/blob/main/In_Class_Assignment.ipynb\" target=\"_parent\"><img src=\"https://colab.research.google.com/assets/colab-badge.svg\" alt=\"Open In Colab\"/></a>"
      ]
    },
    {
      "cell_type": "code",
      "source": [
        "pi= 3.14\n",
        "height = float(input(\"Please provide height: \"))\n",
        "radius = float(input(\"Please provide radius: \"))\n",
        "\n",
        "surface_area = (2 * pi * (radius ** 2)) + (2 * pi * radius * height)\n",
        "print(\"Surface Area =\", surface_area, \"sq. ft\")"
      ],
      "metadata": {
        "colab": {
          "base_uri": "https://localhost:8080/"
        },
        "id": "EtblAObGaahs",
        "outputId": "eeb0dd3b-24b7-4acf-9c11-e49d40b84ad9"
      },
      "execution_count": null,
      "outputs": [
        {
          "output_type": "stream",
          "name": "stdout",
          "text": [
            "Please provide height: 3\n",
            "Please provide radius: 2\n",
            "Surface Area = 62.8 sq. ft\n"
          ]
        }
      ]
    },
    {
      "cell_type": "code",
      "source": [
        "first_number = float(input(\"Please input first number: \"))\n",
        "operator = input(\"Please input operator (+,-,*,/,//,**,%): \")\n",
        "second_number = float(input(\"Please input second number: \"))\n",
        "\n",
        "if operator == \"+\":\n",
        "    print(f'{first_number} + {second_number} = {first_number + second_number}')\n",
        "elif operator == \"-\":\n",
        "    print(f'{first_number} - {second_number} = {first_number - second_number}')\n",
        "elif operator == \"/\":\n",
        "    print(f'{first_number} / {second_number} = {first_number / second_number}')\n",
        "elif operator == \"//\":\n",
        "    print(f'{first_number} // {second_number} = {first_number // second_number}')\n",
        "elif operator == \"*\":\n",
        "    print(f'{first_number} * {second_number} = {first_number * second_number}')\n",
        "elif operator == \"**\":\n",
        "    print(f'{first_number} ** {second_number} = {first_number ** second_number}')\n",
        "elif operator == \"%\":\n",
        "    print(f'{first_number} % {second_number} = {first_number % second_number}')\n",
        "else:\n",
        "    print(\"Invalid operator\")"
      ],
      "metadata": {
        "colab": {
          "base_uri": "https://localhost:8080/"
        },
        "id": "q-m64-kedP5C",
        "outputId": "1b439d5c-fe7e-4837-b635-3b5d5ae46532"
      },
      "execution_count": null,
      "outputs": [
        {
          "output_type": "stream",
          "name": "stdout",
          "text": [
            "Please input first number: 5\n",
            "Please input operator (+,-,*,/,//,**,%): *\n",
            "Please input second number: 6\n",
            "5.0 * 6.0 = 30.0\n"
          ]
        }
      ]
    },
    {
      "cell_type": "code",
      "source": [
        "for numberHours in range (1,9):\n",
        "    fee = 5 + 2.5 *numberHours\n",
        "    if fee <= 10:\n",
        "        fee = 10.0\n",
        "    elif fee >= 20:\n",
        "        fee = 20.0\n",
        "    print(fee)"
      ],
      "metadata": {
        "colab": {
          "base_uri": "https://localhost:8080/"
        },
        "id": "qEaLoEeZNMDk",
        "outputId": "db39a3fd-3dab-4357-9367-ffebff9a1599"
      },
      "execution_count": 11,
      "outputs": [
        {
          "output_type": "stream",
          "name": "stdout",
          "text": [
            "10.0\n",
            "10.0\n",
            "12.5\n",
            "15.0\n",
            "17.5\n",
            "20.0\n",
            "20.0\n",
            "20.0\n"
          ]
        }
      ]
    },
    {
      "cell_type": "code",
      "source": [
        "print('Ad$\\t', 'Profit')\n",
        "for AdvertisingDollars in range(0, 201, 25):\n",
        "  AdditionalAttendees = 2 * round((AdvertisingDollars)**(1/2))\n",
        "  profit = (20 + AdditionalAttendees) * 10 - 200 - AdvertisingDollars\n",
        "  print(AdvertisingDollars,'\\t' , profit)"
      ],
      "metadata": {
        "colab": {
          "base_uri": "https://localhost:8080/"
        },
        "id": "wYjLX7xwN-aN",
        "outputId": "37fc4287-5059-40ca-985e-5ee896654651"
      },
      "execution_count": 37,
      "outputs": [
        {
          "output_type": "stream",
          "name": "stdout",
          "text": [
            "Ad$\t Profit\n",
            "0 \t 0\n",
            "25 \t 75\n",
            "50 \t 90\n",
            "75 \t 105\n",
            "100 \t 100\n",
            "125 \t 95\n",
            "150 \t 90\n",
            "175 \t 85\n",
            "200 \t 80\n"
          ]
        }
      ]
    }
  ]
}